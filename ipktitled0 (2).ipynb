{
  "nbformat": 4,
  "nbformat_minor": 0,
  "metadata": {
    "colab": {
      "provenance": []
    },
    "kernelspec": {
      "name": "python3",
      "display_name": "Python 3"
    },
    "language_info": {
      "name": "python"
    }
  },
  "cells": [
    {
      "cell_type": "code",
      "source": [
        "      print(\"hello/dhoma\")"
      ],
      "metadata": {
        "id": "oE_Va1lpTTR6",
        "colab": {
          "base_uri": "https://localhost:8080/"
        },
        "outputId": "d2bea9ab-e115-4e45-ce6c-1e1154d8404d"
      },
      "execution_count": null,
      "outputs": [
        {
          "output_type": "stream",
          "name": "stdout",
          "text": [
            "hello/dhoma\n"
          ]
        }
      ]
    },
    {
      "cell_type": "code",
      "source": [
        "\n",
        "\n",
        "\n",
        "\n",
        "\n",
        "print(hello world)#without brackets code"
      ],
      "metadata": {
        "colab": {
          "base_uri": "https://localhost:8080/",
          "height": 106
        },
        "id": "2XbX6ctAVg1_",
        "outputId": "fcf76d81-984b-42a8-e550-e7d497c6953f"
      },
      "execution_count": null,
      "outputs": [
        {
          "output_type": "error",
          "ename": "SyntaxError",
          "evalue": "invalid syntax. Perhaps you forgot a comma? (<ipython-input-11-33de3c0f6c38>, line 1)",
          "traceback": [
            "\u001b[0;36m  File \u001b[0;32m\"<ipython-input-11-33de3c0f6c38>\"\u001b[0;36m, line \u001b[0;32m1\u001b[0m\n\u001b[0;31m    print(hello world)#without brackets code\u001b[0m\n\u001b[0m          ^\u001b[0m\n\u001b[0;31mSyntaxError\u001b[0m\u001b[0;31m:\u001b[0m invalid syntax. Perhaps you forgot a comma?\n"
          ]
        }
      ]
    },
    {
      "cell_type": "code",
      "source": [
        "print(5)"
      ],
      "metadata": {
        "colab": {
          "base_uri": "https://localhost:8080/"
        },
        "id": "HEOfshubWmyK",
        "outputId": "593d330b-eb25-4413-87b3-cea3749eb872"
      },
      "execution_count": null,
      "outputs": [
        {
          "output_type": "stream",
          "name": "stdout",
          "text": [
            "5\n"
          ]
        }
      ]
    },
    {
      "cell_type": "code",
      "source": [
        "print(5+23)"
      ],
      "metadata": {
        "colab": {
          "base_uri": "https://localhost:8080/"
        },
        "id": "5lVkNCOaX_5G",
        "outputId": "44419721-633d-4891-aec4-5808f1f14ee8"
      },
      "execution_count": null,
      "outputs": [
        {
          "output_type": "stream",
          "name": "stdout",
          "text": [
            "28\n"
          ]
        }
      ]
    },
    {
      "cell_type": "code",
      "source": [
        "print('helow world')\n",
        "print('helw man')\n",
        "print('java')"
      ],
      "metadata": {
        "colab": {
          "base_uri": "https://localhost:8080/"
        },
        "id": "bZuftdS2YP-0",
        "outputId": "0f9a131d-fa37-4bf4-a49a-c668a55b15d3"
      },
      "execution_count": null,
      "outputs": [
        {
          "output_type": "stream",
          "name": "stdout",
          "text": [
            "helow world\n",
            "helw man\n",
            "java\n"
          ]
        }
      ]
    },
    {
      "cell_type": "code",
      "source": [
        "name=input(\"enter your name:\")\n",
        "print(\"hello,\"+name)"
      ],
      "metadata": {
        "colab": {
          "base_uri": "https://localhost:8080/"
        },
        "id": "CxCrquqjR99d",
        "outputId": "9a600ed1-8b00-4794-ef0a-810296980257"
      },
      "execution_count": null,
      "outputs": [
        {
          "output_type": "stream",
          "name": "stdout",
          "text": [
            "enter your name:aniketh\n",
            "hello,aniketh\n"
          ]
        }
      ]
    },
    {
      "cell_type": "code",
      "source": [
        "roll=input(\"enter your roll no:\")\n",
        "print(roll)\n",
        "print(\"roll no:is,\"+roll)"
      ],
      "metadata": {
        "colab": {
          "base_uri": "https://localhost:8080/"
        },
        "id": "dZU13P2SUAGG",
        "outputId": "d6d034a6-3337-4b72-8787-848c1b27777c"
      },
      "execution_count": null,
      "outputs": [
        {
          "output_type": "stream",
          "name": "stdout",
          "text": [
            "enter your roll no:24QM1A6663\n",
            "24QM1A6663\n",
            "roll no:is,24QM1A6663\n"
          ]
        }
      ]
    },
    {
      "cell_type": "code",
      "source": [
        "#printing all keywords at once using \"kwlist()\"\n",
        "print(\"the list of all keywords is:\")\n",
        "print(\"keyword.kwlist\")"
      ],
      "metadata": {
        "colab": {
          "base_uri": "https://localhost:8080/"
        },
        "id": "ywNLpTVSU0wi",
        "outputId": "bf0409be-4468-414c-8387-090338cc4c5a"
      },
      "execution_count": null,
      "outputs": [
        {
          "output_type": "stream",
          "name": "stdout",
          "text": [
            "the list of all keywords is:\n",
            "keyword.kwlist\n"
          ]
        }
      ]
    },
    {
      "cell_type": "code",
      "source": [],
      "metadata": {
        "id": "8GykfvwnYLFI"
      },
      "execution_count": null,
      "outputs": []
    },
    {
      "cell_type": "code",
      "source": [
        "print()"
      ],
      "metadata": {
        "id": "V6A_2kgAYe53"
      },
      "execution_count": null,
      "outputs": []
    },
    {
      "cell_type": "markdown",
      "source": [
        "# age"
      ],
      "metadata": {
        "id": "_WGz32m-oeAR"
      }
    },
    {
      "cell_type": "code",
      "source": [
        "x=600\n",
        "y=\"LND\"\n",
        "print(x,y)"
      ],
      "metadata": {
        "colab": {
          "base_uri": "https://localhost:8080/"
        },
        "id": "lbhvEDDAqZQs",
        "outputId": "9c8e4ce8-4485-44a0-cdda-3b97f1656fbf"
      },
      "execution_count": null,
      "outputs": [
        {
          "output_type": "stream",
          "name": "stdout",
          "text": [
            "600 LND\n"
          ]
        }
      ]
    },
    {
      "cell_type": "markdown",
      "source": [],
      "metadata": {
        "id": "STc6_j-fpHKt"
      }
    },
    {
      "cell_type": "code",
      "source": [
        "age=12\n",
        "print(\"i am \" +str(age)+\"years old\")"
      ],
      "metadata": {
        "colab": {
          "base_uri": "https://localhost:8080/"
        },
        "id": "d8TBIOlkofyC",
        "outputId": "f667c3ac-3ea7-45ca-a007-d787fb9e9374"
      },
      "execution_count": null,
      "outputs": [
        {
          "output_type": "stream",
          "name": "stdout",
          "text": [
            "i am 12years old\n"
          ]
        }
      ]
    },
    {
      "cell_type": "code",
      "source": [
        "x=2\n",
        "y=(\"DHOMA\")\n",
        "print(x)\n",
        "print(y)"
      ],
      "metadata": {
        "colab": {
          "base_uri": "https://localhost:8080/"
        },
        "id": "D6LzftpQpihg",
        "outputId": "aaa9f411-b3c3-4908-93f1-6d70c47da9c4"
      },
      "execution_count": null,
      "outputs": [
        {
          "output_type": "stream",
          "name": "stdout",
          "text": [
            "2\n",
            "DHOMA\n"
          ]
        }
      ]
    },
    {
      "cell_type": "code",
      "source": [
        "x=\"python\"\n",
        "y=\"how\"\n",
        "z=\"kootha\"\n",
        "print(x,y,z)"
      ],
      "metadata": {
        "colab": {
          "base_uri": "https://localhost:8080/"
        },
        "id": "GpiWy7Rqp3DQ",
        "outputId": "5982f3ef-2ffa-46aa-dec9-5a4dc931e479"
      },
      "execution_count": null,
      "outputs": [
        {
          "output_type": "stream",
          "name": "stdout",
          "text": [
            "python how kootha\n"
          ]
        }
      ]
    },
    {
      "cell_type": "code",
      "source": [],
      "metadata": {
        "id": "8iY-ZV7EroKo"
      },
      "execution_count": null,
      "outputs": []
    },
    {
      "cell_type": "markdown",
      "source": [
        "swapping numbers\n"
      ],
      "metadata": {
        "id": "tf2ZoPLlr5Nk"
      }
    },
    {
      "cell_type": "code",
      "source": [
        "a=12\n",
        "b=23"
      ],
      "metadata": {
        "id": "9xDn2Dlgr_Fc"
      },
      "execution_count": null,
      "outputs": []
    },
    {
      "cell_type": "code",
      "source": [
        "a,a=b,a\n"
      ],
      "metadata": {
        "id": "juaO-0SssSIG"
      },
      "execution_count": null,
      "outputs": []
    },
    {
      "cell_type": "code",
      "source": [
        "a"
      ],
      "metadata": {
        "colab": {
          "base_uri": "https://localhost:8080/"
        },
        "id": "KtZVXfLxsXhl",
        "outputId": "5d0cd8e2-de12-4c81-e7b0-16833b29af55"
      },
      "execution_count": null,
      "outputs": [
        {
          "output_type": "execute_result",
          "data": {
            "text/plain": [
              "12"
            ]
          },
          "metadata": {},
          "execution_count": 17
        }
      ]
    },
    {
      "cell_type": "code",
      "source": [
        "b"
      ],
      "metadata": {
        "colab": {
          "base_uri": "https://localhost:8080/"
        },
        "id": "xfFhZ_dJsYll",
        "outputId": "49f0ba8c-66ab-4441-c973-edee2ea2cdab"
      },
      "execution_count": null,
      "outputs": [
        {
          "output_type": "execute_result",
          "data": {
            "text/plain": [
              "23"
            ]
          },
          "metadata": {},
          "execution_count": 18
        }
      ]
    },
    {
      "cell_type": "code",
      "source": [
        "x,y,z="
      ],
      "metadata": {
        "colab": {
          "base_uri": "https://localhost:8080/",
          "height": 106
        },
        "id": "MoqLrhrtsfLl",
        "outputId": "65dfec19-b190-4488-fa56-14aa40de1bbf"
      },
      "execution_count": null,
      "outputs": [
        {
          "output_type": "error",
          "ename": "SyntaxError",
          "evalue": "invalid syntax (<ipython-input-19-5bee0d069c9a>, line 1)",
          "traceback": [
            "\u001b[0;36m  File \u001b[0;32m\"<ipython-input-19-5bee0d069c9a>\"\u001b[0;36m, line \u001b[0;32m1\u001b[0m\n\u001b[0;31m    x,y,z=\u001b[0m\n\u001b[0m          ^\u001b[0m\n\u001b[0;31mSyntaxError\u001b[0m\u001b[0;31m:\u001b[0m invalid syntax\n"
          ]
        }
      ]
    },
    {
      "cell_type": "code",
      "source": [
        "x=str(2)\n",
        "y=int(3)\n",
        "z=float(6)\n"
      ],
      "metadata": {
        "id": "k7RtrFx4uIIA"
      },
      "execution_count": null,
      "outputs": []
    },
    {
      "cell_type": "code",
      "source": [
        "x"
      ],
      "metadata": {
        "colab": {
          "base_uri": "https://localhost:8080/",
          "height": 35
        },
        "id": "nGOcbM77udj_",
        "outputId": "fd10d9e8-da37-4d07-9263-fd432ef656d6"
      },
      "execution_count": null,
      "outputs": [
        {
          "output_type": "execute_result",
          "data": {
            "text/plain": [
              "'2'"
            ],
            "application/vnd.google.colaboratory.intrinsic+json": {
              "type": "string"
            }
          },
          "metadata": {},
          "execution_count": 21
        }
      ]
    },
    {
      "cell_type": "code",
      "source": [
        "a=5\n",
        "print(type(a))\n"
      ],
      "metadata": {
        "colab": {
          "base_uri": "https://localhost:8080/"
        },
        "id": "lMxTeUgNufNe",
        "outputId": "13090b0c-7eb5-4321-93f6-9a942743ad2e"
      },
      "execution_count": null,
      "outputs": [
        {
          "output_type": "stream",
          "name": "stdout",
          "text": [
            "<class 'int'>\n"
          ]
        }
      ]
    },
    {
      "cell_type": "code",
      "source": [
        "b=9.0\n",
        "print(type(b))"
      ],
      "metadata": {
        "colab": {
          "base_uri": "https://localhost:8080/"
        },
        "id": "z4ou0pSWy64g",
        "outputId": "858ee8ea-2283-48b7-fdb8-9a07924bb1ba"
      },
      "execution_count": null,
      "outputs": [
        {
          "output_type": "stream",
          "name": "stdout",
          "text": [
            "<class 'float'>\n"
          ]
        }
      ]
    },
    {
      "cell_type": "code",
      "source": [
        "s='welcome to python workshop'\n",
        "print(s)\n"
      ],
      "metadata": {
        "id": "TxsPyLjXzvSd",
        "colab": {
          "base_uri": "https://localhost:8080/"
        },
        "outputId": "23e2966b-c695-4dd0-ae4d-46231d444ef3"
      },
      "execution_count": null,
      "outputs": [
        {
          "output_type": "stream",
          "name": "stdout",
          "text": [
            "welcome to python workshop\n"
          ]
        }
      ]
    },
    {
      "cell_type": "code",
      "source": [
        "string_one=\"I'm reading of in phone\"\n",
        "string_two=\"a new phone\"\n",
        "string_three=string_one+string_two\n",
        "print(string_three)"
      ],
      "metadata": {
        "colab": {
          "base_uri": "https://localhost:8080/"
        },
        "id": "u4NpnO5G2soE",
        "outputId": "47035b8e-ef5b-4cb1-a2e8-9b5f484a1afa"
      },
      "execution_count": null,
      "outputs": [
        {
          "output_type": "stream",
          "name": "stdout",
          "text": [
            "I'm reading of in phonea new phone\n"
          ]
        }
      ]
    },
    {
      "cell_type": "code",
      "source": [
        "'Alica'*5"
      ],
      "metadata": {
        "colab": {
          "base_uri": "https://localhost:8080/",
          "height": 35
        },
        "id": "wbxxP5uD4CaR",
        "outputId": "47d8a9f6-e59b-4f0f-986c-ff3ac53714d6"
      },
      "execution_count": null,
      "outputs": [
        {
          "output_type": "execute_result",
          "data": {
            "text/plain": [
              "'AlicaAlicaAlicaAlicaAlica'"
            ],
            "application/vnd.google.colaboratory.intrinsic+json": {
              "type": "string"
            }
          },
          "metadata": {},
          "execution_count": 30
        }
      ]
    },
    {
      "cell_type": "code",
      "source": [
        "#list with int values\n",
        "a=[1,2,3]\n",
        "print(a)\n",
        "#list with mixed int and string\n",
        "b=[\"kavya\",\"hi\",\"python\n",
        "\"]"
      ],
      "metadata": {
        "colab": {
          "base_uri": "https://localhost:8080/"
        },
        "id": "dumFB72C46Lf",
        "outputId": "a98d69f8-5bf8-47a4-ee9d-574d763d76d3"
      },
      "execution_count": null,
      "outputs": [
        {
          "output_type": "stream",
          "name": "stdout",
          "text": [
            "[1, 2, 3]\n"
          ]
        }
      ]
    },
    {
      "cell_type": "code",
      "source": [
        "alpha_list[0:4]\n",
        "[2,3,4,5,9]"
      ],
      "metadata": {
        "colab": {
          "base_uri": "https://localhost:8080/",
          "height": 159
        },
        "id": "yO_NrQoDD_3K",
        "outputId": "091fa05c-0919-44d4-e583-2e58a297985c"
      },
      "execution_count": null,
      "outputs": [
        {
          "output_type": "error",
          "ename": "NameError",
          "evalue": "name 'alpha_list' is not defined",
          "traceback": [
            "\u001b[0;31m---------------------------------------------------------------------------\u001b[0m",
            "\u001b[0;31mNameError\u001b[0m                                 Traceback (most recent call last)",
            "\u001b[0;32m<ipython-input-33-306b604f5e27>\u001b[0m in \u001b[0;36m<cell line: 0>\u001b[0;34m()\u001b[0m\n\u001b[0;32m----> 1\u001b[0;31m \u001b[0malpha_list\u001b[0m\u001b[0;34m[\u001b[0m\u001b[0;36m0\u001b[0m\u001b[0;34m:\u001b[0m\u001b[0;36m4\u001b[0m\u001b[0;34m]\u001b[0m\u001b[0;34m\u001b[0m\u001b[0;34m\u001b[0m\u001b[0m\n\u001b[0m\u001b[1;32m      2\u001b[0m \u001b[0;34m[\u001b[0m\u001b[0;36m2\u001b[0m\u001b[0;34m,\u001b[0m\u001b[0;36m3\u001b[0m\u001b[0;34m,\u001b[0m\u001b[0;36m4\u001b[0m\u001b[0;34m,\u001b[0m\u001b[0;36m5\u001b[0m\u001b[0;34m,\u001b[0m\u001b[0;36m9\u001b[0m\u001b[0;34m]\u001b[0m\u001b[0;34m\u001b[0m\u001b[0;34m\u001b[0m\u001b[0m\n",
            "\u001b[0;31mNameError\u001b[0m: name 'alpha_list' is not defined"
          ]
        }
      ]
    },
    {
      "cell_type": "code",
      "source": [
        "beta_list=[\"apple\",\"banana\",\"orange\"]\n",
        "beta_list.append(\"grape\")\n",
        "print(beta_list)"
      ],
      "metadata": {
        "colab": {
          "base_uri": "https://localhost:8080/"
        },
        "id": "UhU1emN1Ig4_",
        "outputId": "36e2fda9-54ce-4d9a-926d-b027f74764f6"
      },
      "execution_count": null,
      "outputs": [
        {
          "output_type": "stream",
          "name": "stdout",
          "text": [
            "['apple', 'banana', 'orange', 'grape']\n"
          ]
        }
      ]
    },
    {
      "cell_type": "code",
      "source": [
        "beta_list=[\"apple\",\"banana\",\"watermilon\"]\n",
        "beta_list.insert(2,\"grape\")\n",
        "print(beta_list)"
      ],
      "metadata": {
        "colab": {
          "base_uri": "https://localhost:8080/"
        },
        "id": "3RNB6B4XJlzo",
        "outputId": "58f7db26-2f2f-4374-feb0-984e2430d5ba"
      },
      "execution_count": null,
      "outputs": [
        {
          "output_type": "stream",
          "name": "stdout",
          "text": [
            "['apple', 'banana', 'grape', 'watermilon']\n"
          ]
        }
      ]
    },
    {
      "cell_type": "code",
      "source": [
        "a=29\n",
        "b=29\n"
      ],
      "metadata": {
        "id": "7lzqe9yAKhWV"
      },
      "execution_count": null,
      "outputs": []
    },
    {
      "cell_type": "code",
      "source": [
        "a+b"
      ],
      "metadata": {
        "colab": {
          "base_uri": "https://localhost:8080/"
        },
        "id": "Qt8QD2s1L_iz",
        "outputId": "17201df2-6389-4c35-8b33-79210e554eb6"
      },
      "execution_count": null,
      "outputs": [
        {
          "output_type": "execute_result",
          "data": {
            "text/plain": [
              "58"
            ]
          },
          "metadata": {},
          "execution_count": 2
        }
      ]
    },
    {
      "cell_type": "code",
      "source": [
        "a-b"
      ],
      "metadata": {
        "colab": {
          "base_uri": "https://localhost:8080/"
        },
        "id": "mJTlyBesMBUS",
        "outputId": "9fee5cce-7da8-4e93-d1de-22130553cc20"
      },
      "execution_count": null,
      "outputs": [
        {
          "output_type": "execute_result",
          "data": {
            "text/plain": [
              "0"
            ]
          },
          "metadata": {},
          "execution_count": 3
        }
      ]
    },
    {
      "cell_type": "code",
      "source": [
        "a%b"
      ],
      "metadata": {
        "colab": {
          "base_uri": "https://localhost:8080/"
        },
        "id": "8dx0f5SoMFhD",
        "outputId": "e8a573a3-6d31-4990-b7e4-73889064e73b"
      },
      "execution_count": null,
      "outputs": [
        {
          "output_type": "execute_result",
          "data": {
            "text/plain": [
              "0"
            ]
          },
          "metadata": {},
          "execution_count": 4
        }
      ]
    },
    {
      "cell_type": "code",
      "source": [
        "print(\"multiplic\\a*b)"
      ],
      "metadata": {
        "colab": {
          "base_uri": "https://localhost:8080/",
          "height": 106
        },
        "id": "JmROaorgMIrR",
        "outputId": "2d2dd800-1f94-4572-d7a6-315752a6fc16"
      },
      "execution_count": null,
      "outputs": [
        {
          "output_type": "error",
          "ename": "SyntaxError",
          "evalue": "unterminated string literal (detected at line 1) (<ipython-input-7-ecc037c50cf4>, line 1)",
          "traceback": [
            "\u001b[0;36m  File \u001b[0;32m\"<ipython-input-7-ecc037c50cf4>\"\u001b[0;36m, line \u001b[0;32m1\u001b[0m\n\u001b[0;31m    print(\"multiplic\\a*b)\u001b[0m\n\u001b[0m          ^\u001b[0m\n\u001b[0;31mSyntaxError\u001b[0m\u001b[0;31m:\u001b[0m unterminated string literal (detected at line 1)\n"
          ]
        }
      ]
    },
    {
      "cell_type": "code",
      "source": [
        "a//b"
      ],
      "metadata": {
        "colab": {
          "base_uri": "https://localhost:8080/"
        },
        "id": "kxj5DRQSMbvw",
        "outputId": "72feaabf-2e9b-4b5e-a42d-661cf391c350"
      },
      "execution_count": null,
      "outputs": [
        {
          "output_type": "execute_result",
          "data": {
            "text/plain": [
              "1"
            ]
          },
          "metadata": {},
          "execution_count": 8
        }
      ]
    },
    {
      "cell_type": "code",
      "source": [
        "bill=50\n",
        "print(\"tip:\",20*28/200)"
      ],
      "metadata": {
        "colab": {
          "base_uri": "https://localhost:8080/"
        },
        "id": "WDbKJM3yMtEQ",
        "outputId": "97fc8085-f269-4ffa-b525-4ba2406fce5b"
      },
      "execution_count": null,
      "outputs": [
        {
          "output_type": "stream",
          "name": "stdout",
          "text": [
            "tip: 2.8\n"
          ]
        }
      ]
    },
    {
      "cell_type": "code",
      "source": [
        "bill=int(input(300))#taking input\n",
        "tip=20/100*bill\n",
        "print(tip)"
      ],
      "metadata": {
        "colab": {
          "base_uri": "https://localhost:8080/"
        },
        "id": "Mt_HW-gYPqXX",
        "outputId": "43b1a1e0-3259-4e0b-e62c-99b796edc0c4"
      },
      "execution_count": null,
      "outputs": [
        {
          "output_type": "stream",
          "name": "stdout",
          "text": [
            "3001024\n",
            "204.8\n"
          ]
        }
      ]
    },
    {
      "cell_type": "code",
      "source": [
        "a=10\n",
        "b=20\n",
        "print(a<b)\n",
        "print(a>b)\n",
        "print(a==b)\n",
        "print(a!=b)\n",
        "print(a>=b)\n",
        "print(a<=b)"
      ],
      "metadata": {
        "colab": {
          "base_uri": "https://localhost:8080/"
        },
        "id": "15oIjAzCQdoE",
        "outputId": "7ebbbff5-21ce-46f2-c3fd-10f5066ed1d0"
      },
      "execution_count": null,
      "outputs": [
        {
          "output_type": "stream",
          "name": "stdout",
          "text": [
            "True\n",
            "False\n",
            "False\n",
            "True\n",
            "False\n",
            "True\n"
          ]
        }
      ]
    },
    {
      "cell_type": "code",
      "source": [
        "a=20\n",
        "b=a\n",
        "print(b)\n",
        "b +=a\n",
        "print(b)\n",
        "b -=a\n",
        "print(b)\n",
        "b *=a\n",
        "print(b)\n",
        "b <<=a\n",
        "print(b)\n"
      ],
      "metadata": {
        "id": "pW7AUYwdSvs7",
        "colab": {
          "base_uri": "https://localhost:8080/"
        },
        "outputId": "66bb6ce0-246f-43d7-cd31-6bfc84930ae8"
      },
      "execution_count": null,
      "outputs": [
        {
          "output_type": "stream",
          "name": "stdout",
          "text": [
            "20\n",
            "40\n",
            "20\n",
            "400\n",
            "419430400\n"
          ]
        }
      ]
    },
    {
      "cell_type": "code",
      "source": [
        "a=10\n",
        "b=20\n",
        "c=a\n",
        "print(a is not b)\n",
        "print(a is c)\n",
        "print(b is c)\n"
      ],
      "metadata": {
        "colab": {
          "base_uri": "https://localhost:8080/"
        },
        "id": "OWSeiOgSVdoV",
        "outputId": "d79bb2b1-3236-4cad-980b-6bf35c0f163a"
      },
      "execution_count": null,
      "outputs": [
        {
          "output_type": "stream",
          "name": "stdout",
          "text": [
            "True\n",
            "True\n",
            "False\n"
          ]
        }
      ]
    },
    {
      "cell_type": "code",
      "source": [
        "x=19\n",
        "y=10\n",
        "list=[10,20,30,40,50]\n",
        "if(x not in list):\n",
        "  print(\"x is not present in given list\")\n",
        "else:\n",
        "  print(\"x is present in given list\")\n",
        "if(y in list):\n",
        "  print(\"y is present in given list\")\n",
        "else:\n",
        "  print(\"y is not present in given list\")"
      ],
      "metadata": {
        "colab": {
          "base_uri": "https://localhost:8080/"
        },
        "id": "vE2TEfzLV05z",
        "outputId": "25840931-3ce0-426d-c02d-10fcccbd4f75"
      },
      "execution_count": null,
      "outputs": [
        {
          "output_type": "stream",
          "name": "stdout",
          "text": [
            "x is not present in given list\n",
            "y is present in given list\n"
          ]
        }
      ]
    },
    {
      "cell_type": "code",
      "source": [
        ">>> \"hello\"+\"\"+\"world\"\n"
      ],
      "metadata": {
        "colab": {
          "base_uri": "https://localhost:8080/",
          "height": 35
        },
        "id": "H8ace1_aWxUw",
        "outputId": "2a10b235-3f5b-46a5-be6e-ca0732d8bf09"
      },
      "execution_count": null,
      "outputs": [
        {
          "output_type": "execute_result",
          "data": {
            "text/plain": [
              "'helloworld'"
            ],
            "application/vnd.google.colaboratory.intrinsic+json": {
              "type": "string"
            }
          },
          "metadata": {},
          "execution_count": 32
        }
      ]
    },
    {
      "cell_type": "code",
      "source": [
        ">>> [1,2,3]+[2,3,4]"
      ],
      "metadata": {
        "colab": {
          "base_uri": "https://localhost:8080/"
        },
        "id": "-ZOWlimdYYCJ",
        "outputId": "62ef0635-1b66-4f80-91dd-add34501fc48"
      },
      "execution_count": null,
      "outputs": [
        {
          "output_type": "execute_result",
          "data": {
            "text/plain": [
              "[1, 2, 3, 2, 3, 4]"
            ]
          },
          "metadata": {},
          "execution_count": 34
        }
      ]
    },
    {
      "cell_type": "code",
      "source": [
        "if 5>1:\n",
        "  print(\"that's true!\")"
      ],
      "metadata": {
        "colab": {
          "base_uri": "https://localhost:8080/"
        },
        "id": "ilivKGKCYgqI",
        "outputId": "0c5b4c19-447d-4421-ec1a-1a7651988968"
      },
      "execution_count": null,
      "outputs": [
        {
          "output_type": "stream",
          "name": "stdout",
          "text": [
            "that's true!\n"
          ]
        }
      ]
    },
    {
      "cell_type": "code",
      "source": [
        "x=40\n",
        "if x > 30:\n",
        "  print(\"above twenty\")"
      ],
      "metadata": {
        "colab": {
          "base_uri": "https://localhost:8080/"
        },
        "id": "s39swZaEeg6F",
        "outputId": "473617c4-38b0-4ca0-de6a-fa5efb037963"
      },
      "execution_count": null,
      "outputs": [
        {
          "output_type": "stream",
          "name": "stdout",
          "text": [
            "above twenty\n"
          ]
        }
      ]
    },
    {
      "cell_type": "code",
      "source": [
        "a=207\n",
        "b=22\n",
        "if b>a:\n",
        "    print(\"b is greater than a\")\n",
        "elif a==b:\n",
        "  print(\"a and b are equal\")\n",
        "else:\n",
        "    print(\"a is greater than b\")"
      ],
      "metadata": {
        "colab": {
          "base_uri": "https://localhost:8080/"
        },
        "id": "DTCQfl7Ke7DD",
        "outputId": "b27e9330-f40f-4391-bc3c-6f35c274ce9f"
      },
      "execution_count": null,
      "outputs": [
        {
          "output_type": "stream",
          "name": "stdout",
          "text": [
            "a is greater than b\n"
          ]
        }
      ]
    },
    {
      "cell_type": "code",
      "source": [
        "a=2\n",
        "b=330\n",
        "print(\"A\")if a>b else print(\"B\")"
      ],
      "metadata": {
        "colab": {
          "base_uri": "https://localhost:8080/"
        },
        "id": "npY8k42_f73Q",
        "outputId": "99ca235c-51e6-4475-f84c-12749b832422"
      },
      "execution_count": null,
      "outputs": [
        {
          "output_type": "stream",
          "name": "stdout",
          "text": [
            "B\n"
          ]
        }
      ]
    },
    {
      "cell_type": "code",
      "source": [
        "x = int(input(\"Enter the weight of a person:\"))\n",
        "y = float(input(\"Enter your height:\"))\n",
        "\n",
        "z = x / float(y * y)\n",
        "\n",
        "if z < 18.5:\n",
        "  print(\"You are under weight:\")\n",
        "if z >= 1.5 and z < 25:\n",
        "  print(\"Normal weight\")\n",
        "if z >= 25 and z < 30:\n",
        "  print(\"you are over weight!\")\n",
        "if x >= 30:\n",
        "  print(\"obesity\")\n",
        "\n"
      ],
      "metadata": {
        "id": "YeyWI0BOglGe",
        "colab": {
          "base_uri": "https://localhost:8080/"
        },
        "outputId": "83cd61dc-d18a-4d06-8e34-324d6b19f5b4"
      },
      "execution_count": 4,
      "outputs": [
        {
          "output_type": "stream",
          "name": "stdout",
          "text": [
            "Enter the weight of a person:56\n",
            "Enter your height:5\n",
            "You are under weight:\n",
            "Normal weight\n",
            "obesity\n"
          ]
        }
      ]
    },
    {
      "cell_type": "code",
      "source": [],
      "metadata": {
        "id": "KyAJDwV11LlG"
      },
      "execution_count": null,
      "outputs": []
    }
  ]
}